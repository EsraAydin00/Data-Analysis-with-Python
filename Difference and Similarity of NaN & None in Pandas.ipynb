{
 "cells": [
  {
   "cell_type": "markdown",
   "id": "260afd20",
   "metadata": {
    "deletable": false,
    "editable": false
   },
   "source": [
    "<a href=\"https://clarusway.com/contact-us/\"><img align=\"center\" src=\"https://i.ibb.co/B43qn24/officially-licensed-logo.png\" alt=\"Open in Clarusway LMS\" width=\"110\" height=\"200\" title=\"This notebook is licensed by Clarusway IT training school. Please contact the authorized persons about the conditions under which you can use or share.\"></a>"
   ]
  },
  {
   "cell_type": "markdown",
   "id": "406f2981",
   "metadata": {},
   "source": [
    "<hr>\n",
    "\n",
    "<a href=\"https://lms.clarusway.com/mod/lesson/view.php?id=2463&pageid=4531&startlastseen=no\"><img align=\"center\" src=\"https://i.ibb.co/6Z5pQxD/lmss.png\" alt=\"Open in Clarusway LMS\" width=\"70\" height=\"200\" title=\"Open Clarusway Learning Management Sytem\"></a>\n",
    "\n",
    "<a href=\"https://github.com/clarusway/DS-DE-0322-Students/blob/main/3-%20Classes%26Labs/2-DAwPY/DAwPy_S01_(Numpy_Arrays).ipynb\"><img align=\"left\" src=\"https://i.ibb.co/n3HWyQX/github-logo.png\" alt=\"Open in Clarusway GitHub\" width=\"90\" height=\"150\" title=\"Open and Execute in Clarusway GitHub Repository\"></a>\n",
    "\n",
    "<a href=\"https://nbviewer.org/github/4dsolutions/clarusway_data_analysis/blob/main/DAwPy_S1_%28Numpy_Arrays%29/DAwPy_S1_%28Numpy_Arrays%29.ipynb\"><img align=\"right\" src=\"https://i.ibb.co/48wtV8c/nbviewer-badge.png\" alt=\"Open in nbviewer\" width=\"100\" height=\"100\" title=\"Open and Execute in nbviewer\"></a><br/>\n",
    "\n",
    "<hr>\n",
    "\n",
    "<p style=\"text-align: center;\"><img src=\"https://i.ibb.co/Rpz9L36/clarusway-logo-black.png\" width=\"500\" height=\"200\" class=\"img-fluid\" alt=\"CLRSWY_LOGO\"></p>\n",
    "\n",
    "<p style=\"text-align: center;\"><img src=\"https://i.ibb.co/XS0bxSH/best-bootcamps.png\" width=\"300\" height=\"200\" class=\"img-fluid\" alt=\"CLRSWY_LOGO\"></p>\n",
    "\n",
    "<p style=\"background-color:#E51A59; font-family:newtimeroman; color:#FDFEFE; font-size:130%; text-align:center; border-radius:10px 10px;\">WAY TO REINVENT YOURSELF</p>\n",
    "\n",
    "<p style=\"text-align: center;\"><img src=\"https://i.ibb.co/99DQ3TY/DS-Courses.png\" class=\"img-fluid\" \n",
    "alt=\"CLRSWY_Courses\"></p>"
   ]
  },
  {
   "cell_type": "markdown",
   "id": "1cf68e3e",
   "metadata": {},
   "source": [
    "<img src=https://i.ibb.co/6gCsHd6/1200px-Pandas-logo-svg.png width=\"500\" height=\"200\">\n",
    "\n",
    "## <p style=\"background-color:#FDFEFE; font-family:newtimeroman; color:#060108; font-size:200%; text-align:center; border-radius:10px 10px;\">Data Analysis with Python</p>\n",
    "\n",
    "## <p style=\"background-color:#FDFEFE; font-family:newtimeroman; color:#060108; font-size:150%; text-align:center; border-radius:10px 10px;\">Session - 07</p>\n",
    "\n",
    "## <p style=\"background-color:#FDFEFE; font-family:newtimeroman; color:#4d77cf; font-size:175%; text-align:center; border-radius:10px 10px;\">Difference and Similarity of NaN & None in Pandas</p>"
   ]
  },
  {
   "cell_type": "code",
   "execution_count": 1,
   "id": "57d61fcd",
   "metadata": {},
   "outputs": [],
   "source": [
    "import pandas as pd\n",
    "import numpy as np\n",
    "import seaborn as sns"
   ]
  },
  {
   "cell_type": "raw",
   "id": "f75156b8",
   "metadata": {},
   "source": [
    "Java, C++ gibi popüler dillerin aksine Python Null keyword’ünü kullanmaz. Bunun yerine NaN veya None kullanır.\n",
    "\n",
    "NaN ile None  konsepti yeni başlayanlar için hep karıştırılır. Onlarla benzer işler yaptırılabilse de aralarında önemli farklar vardır. \n",
    "\n",
    "NaN bir nümerik value’dur. Pandas'ta missing value'lar için bir yer tutucu (place holder) olarak kullanılır.\n",
    "\n",
    "None ise NoneType tipinde bir dahili bir Python tipidir. Ve bu bağlamda; \"geçersiz sayısal değer\" olmaktan ziyade \"var olmayan\" (inexistent) veya \"boşluk\" (empy) olarak ifade edilebilir. \n",
    "\n",
    "NaN, Not a Number anlamına gelir ve verilerdeki missing value’ları temsil etmenin yaygın yollarından biridir. Özel bir float değeridir ve float dışında başka bir tipe dönüştürülemez.\n",
    "\n",
    "None'ın ise bildiğimiz anlamda bir tipi yoktur. tipi, Python'un dahili tiplerinden biri olan NoneType'tır."
   ]
  },
  {
   "cell_type": "raw",
   "id": "24f90845",
   "metadata": {},
   "source": [
    "None’dan ziyade NaN kullanmanın ana nedeni, None’ın daha kullanışsız olan “object” dtyep’ında muhafaza edilmesine karşılık NaN’ın numpy’ın “float64” dytpe’ında muhafaza edilebilmesidir.\n",
    "\n",
    "Çünkü object tipinde olması numpy’ın tüm etkinliğini kaybetmesi demektir. Oysa np.nan tipi (NaN) vectorized operasyonlara müsaade eder ki numpy’dan beklentimiz zaten budur.\n",
    "\n",
    "NaN, matematiksel işlemlerde sayısal değer olarak kullanılabilir. Fakat None kullanılamaz. En azından kullanılmamalıdır.\n",
    "\n",
    "İçinde NaN olan bir array’in toplamını veya ortalamasını alırsanız nan sonuç döndürecektir. Ancak içinde None olan bir array’de aynı işlemleri yapamayacaksınız."
   ]
  },
  {
   "cell_type": "markdown",
   "id": "24d7d517",
   "metadata": {},
   "source": [
    "**object==bad, float==good**"
   ]
  },
  {
   "cell_type": "raw",
   "id": "4b5a764f",
   "metadata": {},
   "source": [
    "Önce tiplerine bir bakalım.:"
   ]
  },
  {
   "cell_type": "code",
   "execution_count": 2,
   "id": "ea94ad90",
   "metadata": {},
   "outputs": [
    {
     "name": "stdout",
     "output_type": "stream",
     "text": [
      "    type of np.nan : <class 'float'>\n",
      "      type of None : <class 'NoneType'>\n"
     ]
    }
   ],
   "source": [
    "print(\"{:>20}\".format(\"type of np.nan :\"), type(np.nan))\n",
    "\n",
    "print(\"{:>20}\".format(\"type of None :\"), type(None))"
   ]
  },
  {
   "cell_type": "code",
   "execution_count": 3,
   "id": "9aaea92e",
   "metadata": {},
   "outputs": [
    {
     "name": "stdout",
     "output_type": "stream",
     "text": [
      "False\n",
      "True\n"
     ]
    },
    {
     "data": {
      "text/plain": [
       "\" is ile sorgulama yaptığınızda id değerlerini yani;\\n memory location'ını sorgulamış olursunuz ki bu değerler aynıdır.\\n Fakat bu; value'ları aynı demek değildir!!\""
      ]
     },
     "execution_count": 3,
     "metadata": {},
     "output_type": "execute_result"
    }
   ],
   "source": [
    "# iki nan'ı karşılaştırırsak:\n",
    "\n",
    "print(np.nan == np.nan) # değer olarak eşit değildir. çünkü nan belirsiz bir değerdir.\n",
    "\n",
    "print(np.nan is np.nan) \n",
    "\n",
    "\"\"\" is ile sorgulama yaptığınızda id değerlerini yani;\n",
    " memory location'ını sorgulamış olursunuz ki bu değerler aynıdır.\n",
    " Fakat bu; value'ları aynı demek değildir!!\"\"\""
   ]
  },
  {
   "cell_type": "code",
   "execution_count": 4,
   "id": "79e277b6",
   "metadata": {},
   "outputs": [
    {
     "name": "stdout",
     "output_type": "stream",
     "text": [
      "True\n",
      "True\n"
     ]
    }
   ],
   "source": [
    "# iki None'ı karşılaştırırsak:\n",
    "\n",
    "print(None == None)\n",
    "\n",
    "print(None is None)"
   ]
  },
  {
   "cell_type": "markdown",
   "id": "52f6bbb1",
   "metadata": {},
   "source": [
    "<a id=\"toc\"></a>\n",
    "\n",
    "### <p style=\"background-color:#9d4f8c; font-family:newtimeroman; color:#FFF9ED; font-size:175%; text-align:center; border-radius:10px 10px;\">Bir missing value olarak NaN ve None</p>"
   ]
  },
  {
   "cell_type": "markdown",
   "id": "d1b66026",
   "metadata": {},
   "source": [
    "Pandas'ta, bir missing value (NA: ot available) esas olarak nan (not a number) ile temsil edilir. Bununla birlikte None'da bir missing value olarak kabul edilir."
   ]
  },
  {
   "cell_type": "raw",
   "id": "db9c6b88",
   "metadata": {},
   "source": [
    "NaN ile None'ın Data tipleri farklı olmasına rağmen Pandas bunlara benzer şekilde muamele eder.  \n",
    "\n",
    "Örneğin aşağıdaki dataframe'i oluşturup üzerinden NaN ve None'lara focus olalım."
   ]
  },
  {
   "cell_type": "code",
   "execution_count": 5,
   "id": "5e4d502f",
   "metadata": {},
   "outputs": [
    {
     "data": {
      "text/html": [
       "<div>\n",
       "<style scoped>\n",
       "    .dataframe tbody tr th:only-of-type {\n",
       "        vertical-align: middle;\n",
       "    }\n",
       "\n",
       "    .dataframe tbody tr th {\n",
       "        vertical-align: top;\n",
       "    }\n",
       "\n",
       "    .dataframe thead th {\n",
       "        text-align: right;\n",
       "    }\n",
       "</style>\n",
       "<table border=\"1\" class=\"dataframe\">\n",
       "  <thead>\n",
       "    <tr style=\"text-align: right;\">\n",
       "      <th></th>\n",
       "      <th>categoric</th>\n",
       "      <th>object dtype</th>\n",
       "      <th>float dtype</th>\n",
       "      <th>mixed dtype</th>\n",
       "    </tr>\n",
       "  </thead>\n",
       "  <tbody>\n",
       "    <tr>\n",
       "      <th>0</th>\n",
       "      <td>M</td>\n",
       "      <td>2</td>\n",
       "      <td>8.0</td>\n",
       "      <td>8</td>\n",
       "    </tr>\n",
       "    <tr>\n",
       "      <th>1</th>\n",
       "      <td>F</td>\n",
       "      <td>3</td>\n",
       "      <td>NaN</td>\n",
       "      <td>NaN</td>\n",
       "    </tr>\n",
       "    <tr>\n",
       "      <th>2</th>\n",
       "      <td>M</td>\n",
       "      <td>5</td>\n",
       "      <td>5.0</td>\n",
       "      <td>5</td>\n",
       "    </tr>\n",
       "    <tr>\n",
       "      <th>3</th>\n",
       "      <td>F</td>\n",
       "      <td>nan</td>\n",
       "      <td>8.0</td>\n",
       "      <td>8</td>\n",
       "    </tr>\n",
       "    <tr>\n",
       "      <th>4</th>\n",
       "      <td>M</td>\n",
       "      <td>7</td>\n",
       "      <td>11.0</td>\n",
       "      <td>11</td>\n",
       "    </tr>\n",
       "    <tr>\n",
       "      <th>5</th>\n",
       "      <td>F</td>\n",
       "      <td>1</td>\n",
       "      <td>NaN</td>\n",
       "      <td>NaN</td>\n",
       "    </tr>\n",
       "    <tr>\n",
       "      <th>6</th>\n",
       "      <td>M</td>\n",
       "      <td>nan</td>\n",
       "      <td>NaN</td>\n",
       "      <td>None</td>\n",
       "    </tr>\n",
       "    <tr>\n",
       "      <th>7</th>\n",
       "      <td>F</td>\n",
       "      <td>10</td>\n",
       "      <td>2.0</td>\n",
       "      <td>2</td>\n",
       "    </tr>\n",
       "    <tr>\n",
       "      <th>8</th>\n",
       "      <td>M</td>\n",
       "      <td>14</td>\n",
       "      <td>3.0</td>\n",
       "      <td>3</td>\n",
       "    </tr>\n",
       "    <tr>\n",
       "      <th>9</th>\n",
       "      <td>F</td>\n",
       "      <td>-</td>\n",
       "      <td>7.0</td>\n",
       "      <td>7</td>\n",
       "    </tr>\n",
       "    <tr>\n",
       "      <th>10</th>\n",
       "      <td>M</td>\n",
       "      <td>6</td>\n",
       "      <td>9.0</td>\n",
       "      <td>9</td>\n",
       "    </tr>\n",
       "  </tbody>\n",
       "</table>\n",
       "</div>"
      ],
      "text/plain": [
       "   categoric object dtype  float dtype mixed dtype\n",
       "0          M            2          8.0           8\n",
       "1          F            3          NaN         NaN\n",
       "2          M            5          5.0           5\n",
       "3          F          nan          8.0           8\n",
       "4          M            7         11.0          11\n",
       "5          F            1          NaN         NaN\n",
       "6          M          nan          NaN        None\n",
       "7          F           10          2.0           2\n",
       "8          M           14          3.0           3\n",
       "9          F            -          7.0           7\n",
       "10         M            6          9.0           9"
      ]
     },
     "execution_count": 5,
     "metadata": {},
     "output_type": "execute_result"
    }
   ],
   "source": [
    "gender = [\"M\", \"F\", \"M\", \"F\", \"M\", \"F\", \"M\", \"F\", \"M\", \"F\", \"M\"]\n",
    "V1 = np.array([2, 3, 5, np.nan, 7, 1, np.nan, 10, 14, \"-\", 6])\n",
    "V2 = np.array([8, np.nan, 5, 8, 11, np.nan, np.nan, 2, 3, 7, 9])\n",
    "V3 = np.array([8, np.nan, 5, 8, 11, np.nan, None, 2, 3, 7, 9])\n",
    "\n",
    "df0 = pd.DataFrame({\n",
    "                   \"categoric\": gender,\n",
    "                   \"object dtype\" : V1,\n",
    "                   \"float dtype\" : V2,\n",
    "                   \"mixed dtype\" : V3,\n",
    "                  })\n",
    "df = df0.copy()\n",
    "df"
   ]
  },
  {
   "cell_type": "code",
   "execution_count": 6,
   "id": "17f2f0ee",
   "metadata": {},
   "outputs": [
    {
     "name": "stdout",
     "output_type": "stream",
     "text": [
      "<class 'pandas.core.frame.DataFrame'>\n",
      "RangeIndex: 11 entries, 0 to 10\n",
      "Data columns (total 4 columns):\n",
      " #   Column        Non-Null Count  Dtype  \n",
      "---  ------        --------------  -----  \n",
      " 0   categoric     11 non-null     object \n",
      " 1   object dtype  11 non-null     object \n",
      " 2   float dtype   8 non-null      float64\n",
      " 3   mixed dtype   8 non-null      object \n",
      "dtypes: float64(1), object(3)\n",
      "memory usage: 480.0+ bytes\n"
     ]
    }
   ],
   "source": [
    "df.info()\n",
    "\n",
    "# ilk 2 sütun object, 3. sütun float dtype'ında!"
   ]
  },
  {
   "cell_type": "code",
   "execution_count": 7,
   "id": "50087679",
   "metadata": {},
   "outputs": [
    {
     "data": {
      "text/html": [
       "<div>\n",
       "<style scoped>\n",
       "    .dataframe tbody tr th:only-of-type {\n",
       "        vertical-align: middle;\n",
       "    }\n",
       "\n",
       "    .dataframe tbody tr th {\n",
       "        vertical-align: top;\n",
       "    }\n",
       "\n",
       "    .dataframe thead th {\n",
       "        text-align: right;\n",
       "    }\n",
       "</style>\n",
       "<table border=\"1\" class=\"dataframe\">\n",
       "  <thead>\n",
       "    <tr style=\"text-align: right;\">\n",
       "      <th></th>\n",
       "      <th>categoric</th>\n",
       "      <th>object dtype</th>\n",
       "      <th>float dtype</th>\n",
       "      <th>mixed dtype</th>\n",
       "    </tr>\n",
       "  </thead>\n",
       "  <tbody>\n",
       "    <tr>\n",
       "      <th>0</th>\n",
       "      <td>None</td>\n",
       "      <td>None</td>\n",
       "      <td>NaN</td>\n",
       "      <td>8</td>\n",
       "    </tr>\n",
       "    <tr>\n",
       "      <th>1</th>\n",
       "      <td>F</td>\n",
       "      <td>3</td>\n",
       "      <td>NaN</td>\n",
       "      <td>NaN</td>\n",
       "    </tr>\n",
       "    <tr>\n",
       "      <th>2</th>\n",
       "      <td>M</td>\n",
       "      <td>5</td>\n",
       "      <td>5.0</td>\n",
       "      <td>5</td>\n",
       "    </tr>\n",
       "    <tr>\n",
       "      <th>3</th>\n",
       "      <td>F</td>\n",
       "      <td>nan</td>\n",
       "      <td>8.0</td>\n",
       "      <td>8</td>\n",
       "    </tr>\n",
       "    <tr>\n",
       "      <th>4</th>\n",
       "      <td>M</td>\n",
       "      <td>7</td>\n",
       "      <td>11.0</td>\n",
       "      <td>11</td>\n",
       "    </tr>\n",
       "    <tr>\n",
       "      <th>5</th>\n",
       "      <td>F</td>\n",
       "      <td>1</td>\n",
       "      <td>NaN</td>\n",
       "      <td>NaN</td>\n",
       "    </tr>\n",
       "    <tr>\n",
       "      <th>6</th>\n",
       "      <td>M</td>\n",
       "      <td>nan</td>\n",
       "      <td>NaN</td>\n",
       "      <td>None</td>\n",
       "    </tr>\n",
       "    <tr>\n",
       "      <th>7</th>\n",
       "      <td>F</td>\n",
       "      <td>10</td>\n",
       "      <td>2.0</td>\n",
       "      <td>2</td>\n",
       "    </tr>\n",
       "    <tr>\n",
       "      <th>8</th>\n",
       "      <td>M</td>\n",
       "      <td>14</td>\n",
       "      <td>3.0</td>\n",
       "      <td>3</td>\n",
       "    </tr>\n",
       "    <tr>\n",
       "      <th>9</th>\n",
       "      <td>F</td>\n",
       "      <td>-</td>\n",
       "      <td>7.0</td>\n",
       "      <td>7</td>\n",
       "    </tr>\n",
       "    <tr>\n",
       "      <th>10</th>\n",
       "      <td>M</td>\n",
       "      <td>6</td>\n",
       "      <td>9.0</td>\n",
       "      <td>9</td>\n",
       "    </tr>\n",
       "  </tbody>\n",
       "</table>\n",
       "</div>"
      ],
      "text/plain": [
       "   categoric object dtype  float dtype mixed dtype\n",
       "0       None         None          NaN           8\n",
       "1          F            3          NaN         NaN\n",
       "2          M            5          5.0           5\n",
       "3          F          nan          8.0           8\n",
       "4          M            7         11.0          11\n",
       "5          F            1          NaN         NaN\n",
       "6          M          nan          NaN        None\n",
       "7          F           10          2.0           2\n",
       "8          M           14          3.0           3\n",
       "9          F            -          7.0           7\n",
       "10         M            6          9.0           9"
      ]
     },
     "execution_count": 7,
     "metadata": {},
     "output_type": "execute_result"
    }
   ],
   "source": [
    "# var1'in ve gender'ın ilk elemanını None yapalım.\n",
    "# istediğim sütunların indeks değerlerini fancy index olarak gireceğim:\n",
    "\n",
    "df.iloc[0, [0, 1, 2]] = None\n",
    "df"
   ]
  },
  {
   "cell_type": "raw",
   "id": "d04c66b0",
   "metadata": {},
   "source": [
    "dtype'ı object olan ilk 2 sütunda (ilki kategorik ikincisi kategorik değil) None'ların None olarak kaldığını, fakat nümerik bir sütun olan \"float dtype\" sütununda NaN'a dönüştüğünü fark ettik."
   ]
  },
  {
   "cell_type": "raw",
   "id": "0ea370ce",
   "metadata": {},
   "source": [
    "şimdi df'teki missing value'ları check edelim. \n",
    "ve pandas'ın np.nan ile None değerlere nasıl yaklaştığını görelim:"
   ]
  },
  {
   "cell_type": "code",
   "execution_count": 8,
   "id": "5131ac7a",
   "metadata": {},
   "outputs": [
    {
     "data": {
      "text/html": [
       "<div>\n",
       "<style scoped>\n",
       "    .dataframe tbody tr th:only-of-type {\n",
       "        vertical-align: middle;\n",
       "    }\n",
       "\n",
       "    .dataframe tbody tr th {\n",
       "        vertical-align: top;\n",
       "    }\n",
       "\n",
       "    .dataframe thead th {\n",
       "        text-align: right;\n",
       "    }\n",
       "</style>\n",
       "<table border=\"1\" class=\"dataframe\">\n",
       "  <thead>\n",
       "    <tr style=\"text-align: right;\">\n",
       "      <th></th>\n",
       "      <th>categoric</th>\n",
       "      <th>object dtype</th>\n",
       "      <th>float dtype</th>\n",
       "      <th>mixed dtype</th>\n",
       "    </tr>\n",
       "  </thead>\n",
       "  <tbody>\n",
       "    <tr>\n",
       "      <th>0</th>\n",
       "      <td>True</td>\n",
       "      <td>True</td>\n",
       "      <td>True</td>\n",
       "      <td>False</td>\n",
       "    </tr>\n",
       "    <tr>\n",
       "      <th>1</th>\n",
       "      <td>False</td>\n",
       "      <td>False</td>\n",
       "      <td>True</td>\n",
       "      <td>True</td>\n",
       "    </tr>\n",
       "    <tr>\n",
       "      <th>2</th>\n",
       "      <td>False</td>\n",
       "      <td>False</td>\n",
       "      <td>False</td>\n",
       "      <td>False</td>\n",
       "    </tr>\n",
       "    <tr>\n",
       "      <th>3</th>\n",
       "      <td>False</td>\n",
       "      <td>False</td>\n",
       "      <td>False</td>\n",
       "      <td>False</td>\n",
       "    </tr>\n",
       "    <tr>\n",
       "      <th>4</th>\n",
       "      <td>False</td>\n",
       "      <td>False</td>\n",
       "      <td>False</td>\n",
       "      <td>False</td>\n",
       "    </tr>\n",
       "    <tr>\n",
       "      <th>5</th>\n",
       "      <td>False</td>\n",
       "      <td>False</td>\n",
       "      <td>True</td>\n",
       "      <td>True</td>\n",
       "    </tr>\n",
       "    <tr>\n",
       "      <th>6</th>\n",
       "      <td>False</td>\n",
       "      <td>False</td>\n",
       "      <td>True</td>\n",
       "      <td>True</td>\n",
       "    </tr>\n",
       "    <tr>\n",
       "      <th>7</th>\n",
       "      <td>False</td>\n",
       "      <td>False</td>\n",
       "      <td>False</td>\n",
       "      <td>False</td>\n",
       "    </tr>\n",
       "    <tr>\n",
       "      <th>8</th>\n",
       "      <td>False</td>\n",
       "      <td>False</td>\n",
       "      <td>False</td>\n",
       "      <td>False</td>\n",
       "    </tr>\n",
       "    <tr>\n",
       "      <th>9</th>\n",
       "      <td>False</td>\n",
       "      <td>False</td>\n",
       "      <td>False</td>\n",
       "      <td>False</td>\n",
       "    </tr>\n",
       "    <tr>\n",
       "      <th>10</th>\n",
       "      <td>False</td>\n",
       "      <td>False</td>\n",
       "      <td>False</td>\n",
       "      <td>False</td>\n",
       "    </tr>\n",
       "  </tbody>\n",
       "</table>\n",
       "</div>"
      ],
      "text/plain": [
       "    categoric  object dtype  float dtype  mixed dtype\n",
       "0        True          True         True        False\n",
       "1       False         False         True         True\n",
       "2       False         False        False        False\n",
       "3       False         False        False        False\n",
       "4       False         False        False        False\n",
       "5       False         False         True         True\n",
       "6       False         False         True         True\n",
       "7       False         False        False        False\n",
       "8       False         False        False        False\n",
       "9       False         False        False        False\n",
       "10      False         False        False        False"
      ]
     },
     "execution_count": 8,
     "metadata": {},
     "output_type": "execute_result"
    }
   ],
   "source": [
    "df.isnull()"
   ]
  },
  {
   "cell_type": "raw",
   "id": "cc86a2f5",
   "metadata": {},
   "source": [
    "bakın categoric, object type ve float type featurelarındaki \"None\" olan ilk elemanların üçü de null değer olarak görülerek \"True\" verdi.\n",
    "\n",
    "Bununla birlikte object dtype sütununun 3. ve 6. indeksindeki nan olan elemanları bu sütunun tipi object olduğundan \"null\" olarak değerlendirilmedi ve False verdi."
   ]
  },
  {
   "cell_type": "markdown",
   "id": "62d5a9d9",
   "metadata": {},
   "source": [
    "<a id=\"toc\"></a>\n",
    "\n",
    "### <p style=\"background-color:#9d4f8c; font-family:newtimeroman; color:#FFF9ED; font-size:175%; text-align:center; border-radius:10px 10px;\">Missing value'ları doldurma</p>"
   ]
  },
  {
   "cell_type": "raw",
   "id": "df158d25",
   "metadata": {},
   "source": [
    "Bu missing value'ları doldurmak için sütunların dtype'ına bağlı olarak değişik veriler kullanabiliriz. \n",
    "\n",
    "Şimdi; np.nan ve None olarak her iki null değerin de pd.fillna() fonksiyonu ile doldurulabildiğini göreceğiz. Bunların ikisinin de isnull()'a karşılık True verdiklerini hatırlayalım.\n",
    "\n",
    "Biz Data Analistler, \"categoric\" gibi kategorik sütunlarda missing value'ları mode ile doldurmayı tercih ederiz. Bununla birlikte float dtype gibi nümerik sütunda ise değişik metodlar uygulamakla birlikte burada mean()'i tercih edeceğiz:\n",
    "\n",
    "Ayrıca missing value'ları doldurmadan önce içinde nümerik değerler içeren object dtype sütununun da tipini float'a çevireceğiz.\n",
    "\n",
    "Tabi ki bu sütunu float'a çevirmeden önce içindeki verilerin float'a çevrilmeye uygun olduğundan emin olmalıyız. Bu nedenle 9. indeksteki \"-\" değerini np.nan'a çevirmemiz gerekecek. "
   ]
  },
  {
   "cell_type": "code",
   "execution_count": 9,
   "id": "a1db6806",
   "metadata": {},
   "outputs": [
    {
     "data": {
      "text/html": [
       "<div>\n",
       "<style scoped>\n",
       "    .dataframe tbody tr th:only-of-type {\n",
       "        vertical-align: middle;\n",
       "    }\n",
       "\n",
       "    .dataframe tbody tr th {\n",
       "        vertical-align: top;\n",
       "    }\n",
       "\n",
       "    .dataframe thead th {\n",
       "        text-align: right;\n",
       "    }\n",
       "</style>\n",
       "<table border=\"1\" class=\"dataframe\">\n",
       "  <thead>\n",
       "    <tr style=\"text-align: right;\">\n",
       "      <th></th>\n",
       "      <th>categoric</th>\n",
       "      <th>object dtype</th>\n",
       "      <th>float dtype</th>\n",
       "      <th>mixed dtype</th>\n",
       "    </tr>\n",
       "  </thead>\n",
       "  <tbody>\n",
       "    <tr>\n",
       "      <th>0</th>\n",
       "      <td>F</td>\n",
       "      <td>6.571429</td>\n",
       "      <td>6.428571</td>\n",
       "      <td>8</td>\n",
       "    </tr>\n",
       "    <tr>\n",
       "      <th>1</th>\n",
       "      <td>F</td>\n",
       "      <td>3.000000</td>\n",
       "      <td>6.428571</td>\n",
       "      <td>NaN</td>\n",
       "    </tr>\n",
       "    <tr>\n",
       "      <th>2</th>\n",
       "      <td>M</td>\n",
       "      <td>5.000000</td>\n",
       "      <td>5.000000</td>\n",
       "      <td>5</td>\n",
       "    </tr>\n",
       "    <tr>\n",
       "      <th>3</th>\n",
       "      <td>F</td>\n",
       "      <td>6.571429</td>\n",
       "      <td>8.000000</td>\n",
       "      <td>8</td>\n",
       "    </tr>\n",
       "    <tr>\n",
       "      <th>4</th>\n",
       "      <td>M</td>\n",
       "      <td>7.000000</td>\n",
       "      <td>11.000000</td>\n",
       "      <td>11</td>\n",
       "    </tr>\n",
       "    <tr>\n",
       "      <th>5</th>\n",
       "      <td>F</td>\n",
       "      <td>1.000000</td>\n",
       "      <td>6.428571</td>\n",
       "      <td>NaN</td>\n",
       "    </tr>\n",
       "    <tr>\n",
       "      <th>6</th>\n",
       "      <td>M</td>\n",
       "      <td>6.571429</td>\n",
       "      <td>6.428571</td>\n",
       "      <td>None</td>\n",
       "    </tr>\n",
       "    <tr>\n",
       "      <th>7</th>\n",
       "      <td>F</td>\n",
       "      <td>10.000000</td>\n",
       "      <td>2.000000</td>\n",
       "      <td>2</td>\n",
       "    </tr>\n",
       "    <tr>\n",
       "      <th>8</th>\n",
       "      <td>M</td>\n",
       "      <td>14.000000</td>\n",
       "      <td>3.000000</td>\n",
       "      <td>3</td>\n",
       "    </tr>\n",
       "    <tr>\n",
       "      <th>9</th>\n",
       "      <td>F</td>\n",
       "      <td>6.571429</td>\n",
       "      <td>7.000000</td>\n",
       "      <td>7</td>\n",
       "    </tr>\n",
       "    <tr>\n",
       "      <th>10</th>\n",
       "      <td>M</td>\n",
       "      <td>6.000000</td>\n",
       "      <td>9.000000</td>\n",
       "      <td>9</td>\n",
       "    </tr>\n",
       "  </tbody>\n",
       "</table>\n",
       "</div>"
      ],
      "text/plain": [
       "   categoric  object dtype  float dtype mixed dtype\n",
       "0          F      6.571429     6.428571           8\n",
       "1          F      3.000000     6.428571         NaN\n",
       "2          M      5.000000     5.000000           5\n",
       "3          F      6.571429     8.000000           8\n",
       "4          M      7.000000    11.000000          11\n",
       "5          F      1.000000     6.428571         NaN\n",
       "6          M      6.571429     6.428571        None\n",
       "7          F     10.000000     2.000000           2\n",
       "8          M     14.000000     3.000000           3\n",
       "9          F      6.571429     7.000000           7\n",
       "10         M      6.000000     9.000000           9"
      ]
     },
     "execution_count": 9,
     "metadata": {},
     "output_type": "execute_result"
    }
   ],
   "source": [
    "df[\"object dtype\"] = df[\"object dtype\"].replace(\"-\", np.nan).astype(\"float\")\n",
    "df.iloc[:, 0].fillna(df.iloc[:, 0].mode(), inplace=True)\n",
    "df.iloc[:, 1].fillna(df.iloc[:, 1].mean(), inplace=True)\n",
    "df.iloc[:, 2].fillna(df.iloc[:, 2].mean(), inplace=True)\n",
    "df"
   ]
  },
  {
   "cell_type": "raw",
   "id": "3aa7c374",
   "metadata": {},
   "source": [
    "Özetle; NaN ve None Python'da farklı data tipleridir. \n",
    "\n",
    "Bununla birlikte; missing value'ları tespit etme ve onları doldurma konusunda geldiğimizde pandas dataframe'leri NaN ve None'a benzer şekilde davranırlar. Bu missing value'ları elimine etmede df.fillna() fonksiyonu hem NaN için hem de  None için iş görür!"
   ]
  },
  {
   "cell_type": "markdown",
   "id": "c0c0e710",
   "metadata": {},
   "source": [
    "<a id=\"toc\"></a>\n",
    "\n",
    "### <p style=\"background-color:#9d4f8c; font-family:newtimeroman; color:#FFF9ED; font-size:175%; text-align:center; border-radius:10px 10px;\">NaN değerleri check etmenin 5 metodu</p>"
   ]
  },
  {
   "cell_type": "markdown",
   "id": "5d6704fc",
   "metadata": {},
   "source": [
    "## NaN değerleri check etmenin 5 metodu:"
   ]
  },
  {
   "cell_type": "raw",
   "id": "0569b074",
   "metadata": {},
   "source": [
    "İlk 3 yöntem build in fonksiyonlardır. Sonraki iki yöntem ise NaN değerleri özelliklerine dayanır."
   ]
  },
  {
   "cell_type": "code",
   "execution_count": 10,
   "id": "d9de188b",
   "metadata": {},
   "outputs": [
    {
     "name": "stdout",
     "output_type": "stream",
     "text": [
      "It's pd.isna : True\n"
     ]
    }
   ],
   "source": [
    "# 1. Pandas kütüphanesini kullanarak: \n",
    "\n",
    "import pandas as pd\n",
    "nan1 = float(\"nan\")\n",
    "print(f\"It's pd.isna : {pd.isna(nan1)}\")"
   ]
  },
  {
   "cell_type": "code",
   "execution_count": 11,
   "id": "e565c3c8",
   "metadata": {},
   "outputs": [
    {
     "name": "stdout",
     "output_type": "stream",
     "text": [
      "It's np.isnan : True\n"
     ]
    }
   ],
   "source": [
    "# 2. Numpy kütüphanesini kullanarak:\n",
    "\n",
    "import numpy as np\n",
    "nan2 = float(\"nan\")\n",
    "print(f\"It's np.isnan : {np.isnan(nan2)}\")"
   ]
  },
  {
   "cell_type": "code",
   "execution_count": 12,
   "id": "55252857",
   "metadata": {},
   "outputs": [
    {
     "name": "stdout",
     "output_type": "stream",
     "text": [
      "It's math.isnan : True\n"
     ]
    }
   ],
   "source": [
    "# 3. Math kütüphanesini kullanarak :\n",
    "# (The library is applicable to all real numbers. \n",
    "# cmath library can be used if dealing with complex numbers.)\n",
    "\n",
    "import math\n",
    "nan3 = float(\"nan\")\n",
    "print(f\"It's math.isnan : {math.isnan(nan3)}\")"
   ]
  },
  {
   "cell_type": "code",
   "execution_count": 13,
   "id": "4d8d6f3a",
   "metadata": {},
   "outputs": [
    {
     "data": {
      "text/plain": [
       "True"
      ]
     },
     "execution_count": 13,
     "metadata": {},
     "output_type": "execute_result"
    }
   ],
   "source": [
    "# 4. Kendisiyle karşılaştırarak. \n",
    "\n",
    "\"\"\" NaN değerler kendileri hakkında hiç bir şey bilmediğimiz değişik yapılardır.\n",
    "Bunlar sürekli olarak şekil değiştirirler.  \n",
    "Bu yüzen NaN değerleri kendisiyle kıyaslayamayız.\n",
    "\n",
    "NaN valueları çek etmenin yaygın bir yolu da;\n",
    "değişkenin kendisine eşit olup olmadığının kontrolüdür. \n",
    "Eğer eşit değilse o NaN değerdir.\n",
    "\"\"\"\n",
    "def isNaN(num):\n",
    "    return num != num\n",
    "\n",
    "nan4=float(\"nan\")\n",
    "isNaN(nan4)"
   ]
  },
  {
   "cell_type": "code",
   "execution_count": 14,
   "id": "0c2c3a8d",
   "metadata": {},
   "outputs": [
    {
     "data": {
      "text/plain": [
       "True"
      ]
     },
     "execution_count": 14,
     "metadata": {},
     "output_type": "execute_result"
    }
   ],
   "source": [
    "# 5. Range’i kontrol etme:\n",
    "\n",
    "\"\"\" Tüm float değerler eksi sonsuz ile + sonsuz  arasındadır.\n",
    "\n",
    "infinity < any number< infinity\n",
    "\n",
    "Ancaaak. NaN değerler bu aralık içinde değildir!!!\n",
    "Bu nedenle değer eğer eksi sonsuz ile sonsuz arasına düşmüyor ise NaN valuedur.\"\"\"\n",
    "\n",
    "def isNaN(num):\n",
    "    if float('-inf') < float(num) < float('inf'):\n",
    "        return False \n",
    "    else:\n",
    "        return True\n",
    "\n",
    "nan5 = float(\"nan\")\n",
    "isNaN(nan5)"
   ]
  },
  {
   "cell_type": "code",
   "execution_count": 15,
   "id": "99650d7a",
   "metadata": {},
   "outputs": [
    {
     "data": {
      "text/plain": [
       "nan"
      ]
     },
     "execution_count": 15,
     "metadata": {},
     "output_type": "execute_result"
    }
   ],
   "source": [
    "float(np.nan)\n",
    "# NaN'ın float değeri nan'dır."
   ]
  },
  {
   "cell_type": "code",
   "execution_count": 16,
   "id": "5dc57305",
   "metadata": {},
   "outputs": [
    {
     "data": {
      "text/plain": [
       "False"
      ]
     },
     "execution_count": 16,
     "metadata": {},
     "output_type": "execute_result"
    }
   ],
   "source": [
    "float(np.nan) > 0\n",
    "\n",
    "# NaN'lar sıfırdan büyük değerler değildir."
   ]
  },
  {
   "cell_type": "code",
   "execution_count": 17,
   "id": "e876f56b",
   "metadata": {},
   "outputs": [
    {
     "data": {
      "text/plain": [
       "False"
      ]
     },
     "execution_count": 17,
     "metadata": {},
     "output_type": "execute_result"
    }
   ],
   "source": [
    "float(np.nan) <= 0\n",
    "# NaN'lar sıfır veya sıfırdan küçük değer değildir."
   ]
  },
  {
   "cell_type": "code",
   "execution_count": 18,
   "id": "76a36035",
   "metadata": {},
   "outputs": [
    {
     "data": {
      "text/plain": [
       "False"
      ]
     },
     "execution_count": 18,
     "metadata": {},
     "output_type": "execute_result"
    }
   ],
   "source": [
    "float('-inf') < float(np.nan) < float('inf')\n",
    "# NaN'lar eksi sonsuz ile artı sonsuz arasında bir değer değildir."
   ]
  },
  {
   "cell_type": "markdown",
   "id": "538fc9c6",
   "metadata": {},
   "source": [
    "## <p style=\"background-color:#FDFEFE; font-family:newtimeroman; color:#9d4f8c; font-size:150%; text-align:center; border-radius:10px 10px;\">End of the Session</p>\n",
    "\n",
    "\n",
    "<p style=\"text-align: center;\"><img src=\"https://i.ibb.co/99DQ3TY/DS-Courses.png\" class=\"img-fluid\" \n",
    "alt=\"CLRSWY\"></p>\n",
    "\n",
    "\n",
    "<br><br><br>\n",
    "\n",
    "<p style=\"text-align: center;\"><img src=\"https://i.ibb.co/Rpz9L36/clarusway-logo-black.png\" width=\"450\" height=\"200\" class=\"img-fluid\" alt=\"CLRSWY_LOGO\"></p>\n",
    "\n",
    "<p style=\"background-color:#E51A59; font-family:newtimeroman; color:#FDFEFE; font-size:130%; text-align:center; border-radius:10px 10px;\">WAY TO REINVENT YOURSELF</p>"
   ]
  },
  {
   "cell_type": "markdown",
   "id": "639b82ae",
   "metadata": {
    "deletable": false,
    "editable": false
   },
   "source": [
    "<a href=\"https://clarusway.com/contact-us/\"><img align=\"center\" src=\"https://i.ibb.co/B43qn24/officially-licensed-logo.png\" alt=\"Open in Clarusway LMS\" width=\"110\" height=\"200\" title=\"This notebook is licensed by Clarusway IT training school. Please contact the authorized persons about the conditions under which you can use or share.\"></a>"
   ]
  }
 ],
 "metadata": {
  "kernelspec": {
   "display_name": "Python 3 (ipykernel)",
   "language": "python",
   "name": "python3"
  },
  "language_info": {
   "codemirror_mode": {
    "name": "ipython",
    "version": 3
   },
   "file_extension": ".py",
   "mimetype": "text/x-python",
   "name": "python",
   "nbconvert_exporter": "python",
   "pygments_lexer": "ipython3",
   "version": "3.11.4"
  },
  "toc": {
   "base_numbering": 1,
   "nav_menu": {},
   "number_sections": false,
   "sideBar": true,
   "skip_h1_title": false,
   "title_cell": "Table of Contents",
   "title_sidebar": "Contents",
   "toc_cell": false,
   "toc_position": {},
   "toc_section_display": true,
   "toc_window_display": true
  },
  "varInspector": {
   "cols": {
    "lenName": 16,
    "lenType": 16,
    "lenVar": 40
   },
   "kernels_config": {
    "python": {
     "delete_cmd_postfix": "",
     "delete_cmd_prefix": "del ",
     "library": "var_list.py",
     "varRefreshCmd": "print(var_dic_list())"
    },
    "r": {
     "delete_cmd_postfix": ") ",
     "delete_cmd_prefix": "rm(",
     "library": "var_list.r",
     "varRefreshCmd": "cat(var_dic_list()) "
    }
   },
   "types_to_exclude": [
    "module",
    "function",
    "builtin_function_or_method",
    "instance",
    "_Feature"
   ],
   "window_display": false
  }
 },
 "nbformat": 4,
 "nbformat_minor": 5
}
